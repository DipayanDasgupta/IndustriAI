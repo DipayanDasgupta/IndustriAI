{
 "cells": [
  {
   "cell_type": "code",
   "execution_count": null,
   "metadata": {
    "vscode": {
     "languageId": "plaintext"
    }
   },
   "outputs": [],
   "source": [
    "# Optimization Notebook\n",
    "import pandas as pd\n",
    "from scipy.optimize import linprog\n",
    "import matplotlib.pyplot as plt\n",
    "\n",
    "# Load Data\n",
    "project_data = pd.read_csv(\"../data/projects.csv\")\n",
    "print(\"Project data loaded successfully.\")\n",
    "print(project_data.head())\n",
    "\n",
    "# Define Optimization Problem\n",
    "c = -1 * project_data[\"Budget\"].values  # Objective: Maximize budget (negative for linprog)\n",
    "A = [project_data[\"Risk Score\"].values]  # Risk constraint\n",
    "b = [1.0]  # Example risk tolerance\n",
    "bounds = [(0, 1) for _ in project_data[\"Budget\"]]  # Binary decision variables\n",
    "\n",
    "# Solve Optimization\n",
    "print(\"\\nSolving Optimization Problem...\")\n",
    "result = linprog(c, A_ub=A, b_ub=b, bounds=bounds, method=\"highs\")\n",
    "\n",
    "# Process Results\n",
    "if result.success:\n",
    "    selected_projects = [i for i, x in enumerate(result.x) if x > 0.5]\n",
    "    print(\"\\nSelected Projects:\")\n",
    "    print(project_data.iloc[selected_projects])\n",
    "\n",
    "    # Visualize Selected Projects\n",
    "    selected_data = project_data.iloc[selected_projects]\n",
    "    plt.figure(figsize=(10, 6))\n",
    "    plt.bar(selected_data[\"Project Name\"], selected_data[\"Budget\"], color=\"green\")\n",
    "    plt.xlabel(\"Project Name\")\n",
    "    plt.ylabel(\"Budget Allocated\")\n",
    "    plt.title(\"Optimized Budget Allocation\")\n",
    "    plt.xticks(rotation=45)\n",
    "    plt.tight_layout()\n",
    "    plt.show()\n",
    "else:\n",
    "    print(\"Optimization failed.\")\n"
   ]
  }
 ],
 "metadata": {
  "language_info": {
   "name": "python"
  }
 },
 "nbformat": 4,
 "nbformat_minor": 2
}
