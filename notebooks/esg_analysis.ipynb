{
 "cells": [
  {
   "cell_type": "code",
   "execution_count": null,
   "metadata": {
    "vscode": {
     "languageId": "plaintext"
    }
   },
   "outputs": [],
   "source": [
    "# ESG Analysis Notebook\n",
    "import pandas as pd\n",
    "import matplotlib.pyplot as plt\n",
    "import seaborn as sns\n",
    "from sklearn.ensemble import RandomForestRegressor\n",
    "from sklearn.model_selection import train_test_split\n",
    "from sklearn.metrics import mean_squared_error\n",
    "import pickle\n",
    "\n",
    "# Load Data\n",
    "esg_data = pd.read_csv(\"../data/collected_data.csv\")\n",
    "print(\"Data loaded successfully.\")\n",
    "\n",
    "# EDA\n",
    "print(\"Data Overview:\")\n",
    "print(esg_data.head())\n",
    "\n",
    "print(\"\\nSummary Statistics:\")\n",
    "print(esg_data.describe())\n",
    "\n",
    "# Check for Missing Values\n",
    "print(\"\\nMissing Values:\")\n",
    "print(esg_data.isnull().sum())\n",
    "\n",
    "# Correlation Analysis\n",
    "correlation = esg_data.corr()\n",
    "plt.figure(figsize=(10, 8))\n",
    "sns.heatmap(correlation, annot=True, cmap=\"coolwarm\")\n",
    "plt.title(\"Correlation Matrix\")\n",
    "plt.show()\n",
    "\n",
    "# Feature Engineering\n",
    "print(\"\\nFeature Engineering: One-hot encoding categorical features.\")\n",
    "esg_data_encoded = pd.get_dummies(esg_data, drop_first=True)\n",
    "\n",
    "# Define Features and Target\n",
    "X = esg_data_encoded.drop(\"ESG Score\", axis=1)\n",
    "y = esg_data_encoded[\"ESG Score\"]\n",
    "\n",
    "# Train-Test Split\n",
    "X_train, X_test, y_train, y_test = train_test_split(X, y, test_size=0.2, random_state=42)\n",
    "print(f\"\\nTraining Data: {X_train.shape}, Testing Data: {X_test.shape}\")\n",
    "\n",
    "# Model Training\n",
    "print(\"\\nTraining Random Forest Regressor...\")\n",
    "rf_model = RandomForestRegressor(n_estimators=100, random_state=42)\n",
    "rf_model.fit(X_train, y_train)\n",
    "\n",
    "# Model Evaluation\n",
    "y_pred = rf_model.predict(X_test)\n",
    "mse = mean_squared_error(y_test, y_pred)\n",
    "print(f\"Mean Squared Error: {mse}\")\n",
    "\n",
    "# Save the Model\n",
    "with open(\"../models/esg_model.pkl\", \"wb\") as f:\n",
    "    pickle.dump(rf_model, f)\n",
    "print(\"Model saved as 'esg_model.pkl'\")\n"
   ]
  }
 ],
 "metadata": {
  "language_info": {
   "name": "python"
  }
 },
 "nbformat": 4,
 "nbformat_minor": 2
}
